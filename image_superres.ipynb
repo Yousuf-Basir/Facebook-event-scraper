{
  "nbformat": 4,
  "nbformat_minor": 0,
  "metadata": {
    "colab": {
      "name": "local_image_superres.ipynb",
      "provenance": [],
      "collapsed_sections": [
        "1QtGpdSrrgAU"
      ],
      "include_colab_link": true
    },
    "kernelspec": {
      "name": "python3",
      "display_name": "Python 3"
    }
  },
  "cells": [
    {
      "cell_type": "markdown",
      "metadata": {
        "id": "X7JkCX2wuHQb"
      },
      "source": [
        "# Neural Image Super-Resolution (Local Version)\n",
        "\n",
        "Modified version of [superresolution_gan](https://github.com/fukumame/superresolution_gan), implementation of [Photo-Realistic Single Image Super-Resolution Using a Generative Adversarial Network](https://arxiv.org/abs/1609.04802).\n",
        "\n",
        "This notebook works with local files instead of Google Drive files.\n",
        "\n",
        "Seems to work best on very small images. Images larger than 200x200 (in total number of pixels) will be sliced, processed in tiles and combined."
      ]
    },
    {
      "cell_type": "code",
      "metadata": {
        "id": "Tvx2wS76UC8Y",
        "cellView": "form"
      },
      "source": [
        "#@title Setup Required Libraries\n",
        "!pip -q install import-ipynb\n",
        "!pip -q install image_slicer\n",
        "\n",
        "import os\n",
        "import glob\n",
        "import random\n",
        "import string\n",
        "\n",
        "# Create temporary directory for processing\n",
        "dir_tmp = \"/content/tmp/\"\n",
        "if not os.path.exists(dir_tmp):\n",
        "    os.makedirs(dir_tmp)\n",
        "\n",
        "# Utility functions from inhagcutils\n",
        "def path_leaf(path):\n",
        "    \"\"\"Get the filename from a path\"\"\"\n",
        "    return os.path.basename(path)\n",
        "\n",
        "def path_dir(path):\n",
        "    \"\"\"Get the directory from a path\"\"\"\n",
        "    return os.path.dirname(path) + \"/\"\n",
        "\n",
        "def rnd_str(l):\n",
        "    return ''.join(random.choice(string.ascii_lowercase) for i in range(l))\n",
        "\n",
        "def create_dirs(dirs):\n",
        "    \"\"\"Create directories if they don't exist\"\"\"\n",
        "    for dir in dirs:\n",
        "        if not os.path.exists(dir):\n",
        "            os.makedirs(dir)"
      ],
      "execution_count": null,
      "outputs": []
    },
    {
      "cell_type": "markdown",
      "metadata": {
        "id": "pgHQ8yl2qXjD"
      },
      "source": [
        "### Settings"
      ]
    },
    {
      "cell_type": "code",
      "metadata": {
        "id": "58KGRDniox7A"
      },
      "source": [
        "#@title Path to a local image file\n",
        "input_image = \"/path/to/your/image.png\" #@param {type:\"string\"}\n",
        "\n",
        "#@markdown <font color=\"#999\">Output will be saved in the same directory as `superres_<filename>`</font>\n",
        "\n",
        "dir_out = path_dir(input_image)\n",
        "output_image = path_dir(input_image) + \"superres_\" + path_leaf(input_image)\n",
        "\n",
        "target_grid = 200*200\n",
        "\n",
        "dir_input_slices = dir_tmp + \"input-slices/\"\n",
        "dir_output_slices = dir_tmp + \"output-slices/\"\n",
        "create_dirs([dir_tmp, dir_input_slices, dir_output_slices])"
      ],
      "execution_count": null,
      "outputs": []
    },
    {
      "cell_type": "markdown",
      "metadata": {
        "id": "1QtGpdSrrgAU"
      },
      "source": [
        "### Setup"
      ]
    },
    {
      "cell_type": "code",
      "metadata": {
        "id": "hx1C5bwEUDqr"
      },
      "source": [
        "#@title Git clone & get model\n",
        "%cd /content/\n",
        "!git clone https://github.com/fukumame/superresolution_gan.git\n",
        "%cd /content/superresolution_gan\n",
        "!wget https://www.dropbox.com/s/l4s5a6v4licks62/generator_model_3008000.npz\n",
        "import image_slicer, math\n",
        "from PIL import Image"
      ],
      "execution_count": null,
      "outputs": []
    },
    {
      "cell_type": "markdown",
      "metadata": {
        "id": "rYQkdvi5qY2P"
      },
      "source": [
        "### **Action**"
      ]
    },
    {
      "cell_type": "code",
      "metadata": {
        "id": "pNf-kqahNEuW"
      },
      "source": [
        "#@title Superres\n",
        "im = Image.open(input_image)\n",
        "width, height = im.size\n",
        "\n",
        "# Tile & save tiles\n",
        "def slice_image(input_image, dir):\n",
        "  tiles = closestDiv(math.floor((width*height)/target_grid), 4)\n",
        "  slicery = image_slicer.slice(input_image, tiles, save=False)\n",
        "  image_slicer.save_tiles(slicery, directory=dir, prefix='slice')\n",
        "\n",
        "# Superres tiles\n",
        "def superres(dir_in, dir_out):\n",
        "  slices = glob.glob(dir_in+\"slice*\")\n",
        "  %cd /content/superresolution_gan/\n",
        "  i = 1\n",
        "  for slice in slices:\n",
        "    output = dir_out+path_leaf(slice)\n",
        "    print('> processing slice', str(i)+\"/\"+str(len(slices)))\n",
        "    !python superresolution.py --modelpath=generator_model_3008000.npz --imagepath=\"{slice}\" --outputpath=\"{output}\"\n",
        "    i+=1\n",
        "\n",
        "# Mash\n",
        "def mash(dir_in, img_out):\n",
        "  tiles = image_slicer.open_images_in(dir_in)\n",
        "  image = image_slicer.join(tiles)\n",
        "  tmpImg = dir_tmp+rnd_str(8)\n",
        "  image.save('/content/tmp/joined.png')\n",
        "  !cp \"/content/tmp/joined.png\" \"{output_image}\"\n",
        "\n",
        "# Cleanup\n",
        "def clean():\n",
        "  copy = dir_tmp+path_leaf(input_image)\n",
        "  !rm -f {dir_input_slices}*\n",
        "  !rm -f {dir_output_slices}*\n",
        "  !rm -f {dir_tmp}joined.png\n",
        "  if os.path.exists(copy):\n",
        "    !rm -f {copy}\n",
        "\n",
        "def closestDiv(a, b):\n",
        "  c1 = a - (a % b)\n",
        "  c2 = (a + b) - (a % b)\n",
        "  if (a - c1 > c2 - a):\n",
        "    return c2\n",
        "  else:\n",
        "    return c1\n",
        "\n",
        "if width*height > target_grid:\n",
        "  # Create a copy in tmp directory for processing\n",
        "  tmp_copy = os.path.join(dir_tmp, path_leaf(input_image))\n",
        "  !cp \"{input_image}\" \"{tmp_copy}\"\n",
        "  print(f'Slicing {input_image}...')\n",
        "  slice_image(tmp_copy, dir_input_slices)\n",
        "  print('Done.\\nSuperres slices...')\n",
        "  superres(dir_input_slices, dir_output_slices)\n",
        "  print('Done.\\nMashing back into single image...')\n",
        "  mash(dir_output_slices, output_image)\n",
        "  print(f'Done\\nFile saved as {output_image}')\n",
        "  clean()\n",
        "else:\n",
        "  %cd /content/superresolution_gan\n",
        "  print(f'Processing {input_image}')\n",
        "  !python superresolution.py --modelpath=generator_model_3008000.npz --imagepath=\"{input_image}\" --outputpath=\"{output_image}\"\n",
        "  print(f'Saved to {output_image}')"
      ],
      "execution_count": null,
      "outputs": []
    },
    {
      "cell_type": "markdown",
      "metadata": {
        "id": "cleanup_section"
      },
      "source": [
        "### Cleanup (Optional)\n",
        "\n",
        "Run this cell to clean up temporary files when you're done."
      ]
    },
    {
      "cell_type": "code",
      "metadata": {
        "id": "cleanup_code"
      },
      "source": [
        "# Remove temporary directory\n",
        "!rm -rf {dir_tmp}\n",
        "print(\"Temporary files cleaned up.\")"
      ],
      "execution_count": null,
      "outputs": []
    }
  ]
}
